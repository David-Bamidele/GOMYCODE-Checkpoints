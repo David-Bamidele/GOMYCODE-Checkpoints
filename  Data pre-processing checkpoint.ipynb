{
 "cells": [
  {
   "cell_type": "markdown",
   "id": "fe28edd2-9f95-481b-875d-f392473a9051",
   "metadata": {},
   "source": [
    "### Checkpoint"
   ]
  },
  {
   "cell_type": "code",
   "execution_count": 6,
   "id": "b066c113-deef-4c6a-b9de-72df99f0f4ad",
   "metadata": {},
   "outputs": [],
   "source": [
    " import pandas as pd\n",
    "\n",
    "# Load the dataset\n",
    "df = pd.read_csv(\"STEG_BILLING_HISTORY.csv\")"
   ]
  },
  {
   "cell_type": "code",
   "execution_count": null,
   "id": "6fd08f75-4b8e-417e-8142-264372794df0",
   "metadata": {},
   "outputs": [],
   "source": [
    "# Display the first 10 rows and store them in a variable called 'client_0_bills'\n",
    "client_0_bills = df.head(10)"
   ]
  },
  {
   "cell_type": "code",
   "execution_count": null,
   "id": "a26966b3-8c4a-4a7e-b4cc-be10d664ade5",
   "metadata": {},
   "outputs": [],
   "source": [
    "# Display the type of 'client_0_bills' variable\n",
    "client_0_bills_type = type(client_0_bills)"
   ]
  },
  {
   "cell_type": "code",
   "execution_count": null,
   "id": "6a96c341-41cd-48a8-93ff-27129959c98d",
   "metadata": {},
   "outputs": [],
   "source": [
    "# Display general information about the dataset\n",
    "general_info = df.info()"
   ]
  },
  {
   "cell_type": "code",
   "execution_count": null,
   "id": "64b85ff5-cf9e-4701-bc58-6b3c299eefc8",
   "metadata": {},
   "outputs": [],
   "source": [
    "# Check for missing values\n",
    "missing_values = df.isnull().sum()"
   ]
  },
  {
   "cell_type": "code",
   "execution_count": null,
   "id": "b3e22d2a-e14f-4343-9272-bd3cabbef7b2",
   "metadata": {},
   "outputs": [],
   "source": [
    "# Run descriptive analysis on numeric features\n",
    "numeric_descriptive = df.describe()"
   ]
  },
  {
   "cell_type": "code",
   "execution_count": null,
   "id": "2a32512a-3ce6-4ce8-ab28-6032f61a46da",
   "metadata": {},
   "outputs": [],
   "source": [
    "client_0_bills, client_0_bills_type, general_info, missing_values, numeric_descriptive"
   ]
  }
 ],
 "metadata": {
  "kernelspec": {
   "display_name": "Python 3 (ipykernel)",
   "language": "python",
   "name": "python3"
  },
  "language_info": {
   "codemirror_mode": {
    "name": "ipython",
    "version": 3
   },
   "file_extension": ".py",
   "mimetype": "text/x-python",
   "name": "python",
   "nbconvert_exporter": "python",
   "pygments_lexer": "ipython3",
   "version": "3.12.4"
  }
 },
 "nbformat": 4,
 "nbformat_minor": 5
}
